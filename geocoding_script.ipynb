{
 "cells": [
  {
   "cell_type": "code",
   "execution_count": null,
   "id": "b2daffaf",
   "metadata": {},
   "outputs": [],
   "source": [
    "# Need to install googlemaps"
   ]
  },
  {
   "cell_type": "code",
   "execution_count": 1,
   "id": "6e924a3d",
   "metadata": {},
   "outputs": [],
   "source": [
    "import pandas as pd\n",
    "from service_geocoding_query import ServiceAddressQuery"
   ]
  },
  {
   "cell_type": "code",
   "execution_count": 2,
   "id": "125ab948",
   "metadata": {},
   "outputs": [],
   "source": [
    "service_address_query = ServiceAddressQuery(source=\"google_api\"\n",
    "                                            , api_key=\"<api_key>\")"
   ]
  },
  {
   "cell_type": "markdown",
   "id": "86c623d2",
   "metadata": {},
   "source": [
    "### String input"
   ]
  },
  {
   "cell_type": "code",
   "execution_count": 3,
   "id": "b32633ef",
   "metadata": {},
   "outputs": [
    {
     "name": "stdout",
     "output_type": "stream",
     "text": [
      "Type: ROOFTOP\n",
      "Longitude: 121.5142593\n",
      "Latitude: 25.0568764\n"
     ]
    },
    {
     "data": {
      "text/plain": [
       "(121.5142593, 25.0568764)"
      ]
     },
     "execution_count": 3,
     "metadata": {},
     "output_type": "execute_result"
    }
   ],
   "source": [
    "service_address_query.query_geocoding_pipeline('台北市大同區民生西路242號')"
   ]
  },
  {
   "cell_type": "markdown",
   "id": "b507038e",
   "metadata": {},
   "source": [
    "### dataframe input"
   ]
  },
  {
   "cell_type": "code",
   "execution_count": 4,
   "id": "8b8e90f1",
   "metadata": {},
   "outputs": [],
   "source": [
    "df_pickup = pd.read_excel(\"./order_data.xlsx\", sheet_name=\"訂單取貨點\").head()"
   ]
  },
  {
   "cell_type": "code",
   "execution_count": 5,
   "id": "2fce788e",
   "metadata": {},
   "outputs": [
    {
     "data": {
      "text/html": [
       "<div>\n",
       "<style scoped>\n",
       "    .dataframe tbody tr th:only-of-type {\n",
       "        vertical-align: middle;\n",
       "    }\n",
       "\n",
       "    .dataframe tbody tr th {\n",
       "        vertical-align: top;\n",
       "    }\n",
       "\n",
       "    .dataframe thead th {\n",
       "        text-align: right;\n",
       "    }\n",
       "</style>\n",
       "<table border=\"1\" class=\"dataframe\">\n",
       "  <thead>\n",
       "    <tr style=\"text-align: right;\">\n",
       "      <th></th>\n",
       "      <th>全國電子門市</th>\n",
       "      <th>住址</th>\n",
       "    </tr>\n",
       "  </thead>\n",
       "  <tbody>\n",
       "    <tr>\n",
       "      <th>0</th>\n",
       "      <td>Digital</td>\n",
       "      <td>新北市汐止區大同路二段240號</td>\n",
       "    </tr>\n",
       "    <tr>\n",
       "      <th>1</th>\n",
       "      <td>Digital</td>\n",
       "      <td>台北市中山區南京東路二段71號</td>\n",
       "    </tr>\n",
       "    <tr>\n",
       "      <th>2</th>\n",
       "      <td>Digital</td>\n",
       "      <td>台北市中正區和平西路一段20號</td>\n",
       "    </tr>\n",
       "    <tr>\n",
       "      <th>3</th>\n",
       "      <td>Digital</td>\n",
       "      <td>新北市板橋區中山路一段118號</td>\n",
       "    </tr>\n",
       "    <tr>\n",
       "      <th>4</th>\n",
       "      <td>Digital</td>\n",
       "      <td>基隆市孝二路86號一樓、二樓</td>\n",
       "    </tr>\n",
       "  </tbody>\n",
       "</table>\n",
       "</div>"
      ],
      "text/plain": [
       "    全國電子門市               住址\n",
       "0  Digital  新北市汐止區大同路二段240號\n",
       "1  Digital  台北市中山區南京東路二段71號\n",
       "2  Digital  台北市中正區和平西路一段20號\n",
       "3  Digital  新北市板橋區中山路一段118號\n",
       "4  Digital   基隆市孝二路86號一樓、二樓"
      ]
     },
     "execution_count": 5,
     "metadata": {},
     "output_type": "execute_result"
    }
   ],
   "source": [
    "df_pickup"
   ]
  },
  {
   "cell_type": "code",
   "execution_count": 6,
   "id": "792f24c6",
   "metadata": {},
   "outputs": [
    {
     "name": "stdout",
     "output_type": "stream",
     "text": [
      "Address: 新北市汐止區大同路二段240號, Longitude: 121.654052, Latitude: 25.0654557\n",
      "Address: 台北市中山區南京東路二段71號, Longitude: 121.5307648, Latitude: 25.0522473\n",
      "Address: 台北市中正區和平西路一段20號, Longitude: 121.5209167, Latitude: 25.0266375\n",
      "Address: 新北市板橋區中山路一段118號, Longitude: 121.4631081, Latitude: 25.010392\n",
      "Address: 基隆市孝二路86號一樓、二樓, Longitude: 121.7406151, Latitude: 25.1301458\n"
     ]
    }
   ],
   "source": [
    "df_output = service_address_query.query_geocoding_pipeline(df_input=df_pickup, column_name=\"住址\")"
   ]
  },
  {
   "cell_type": "code",
   "execution_count": 7,
   "id": "0767755d",
   "metadata": {},
   "outputs": [
    {
     "data": {
      "text/html": [
       "<div>\n",
       "<style scoped>\n",
       "    .dataframe tbody tr th:only-of-type {\n",
       "        vertical-align: middle;\n",
       "    }\n",
       "\n",
       "    .dataframe tbody tr th {\n",
       "        vertical-align: top;\n",
       "    }\n",
       "\n",
       "    .dataframe thead th {\n",
       "        text-align: right;\n",
       "    }\n",
       "</style>\n",
       "<table border=\"1\" class=\"dataframe\">\n",
       "  <thead>\n",
       "    <tr style=\"text-align: right;\">\n",
       "      <th></th>\n",
       "      <th>全國電子門市</th>\n",
       "      <th>住址</th>\n",
       "      <th>geocoding_info</th>\n",
       "    </tr>\n",
       "  </thead>\n",
       "  <tbody>\n",
       "    <tr>\n",
       "      <th>0</th>\n",
       "      <td>Digital</td>\n",
       "      <td>新北市汐止區大同路二段240號</td>\n",
       "      <td>(121.654052, 25.0654557)</td>\n",
       "    </tr>\n",
       "    <tr>\n",
       "      <th>1</th>\n",
       "      <td>Digital</td>\n",
       "      <td>台北市中山區南京東路二段71號</td>\n",
       "      <td>(121.5307648, 25.0522473)</td>\n",
       "    </tr>\n",
       "    <tr>\n",
       "      <th>2</th>\n",
       "      <td>Digital</td>\n",
       "      <td>台北市中正區和平西路一段20號</td>\n",
       "      <td>(121.5209167, 25.0266375)</td>\n",
       "    </tr>\n",
       "    <tr>\n",
       "      <th>3</th>\n",
       "      <td>Digital</td>\n",
       "      <td>新北市板橋區中山路一段118號</td>\n",
       "      <td>(121.4631081, 25.010392)</td>\n",
       "    </tr>\n",
       "    <tr>\n",
       "      <th>4</th>\n",
       "      <td>Digital</td>\n",
       "      <td>基隆市孝二路86號一樓、二樓</td>\n",
       "      <td>(121.7406151, 25.1301458)</td>\n",
       "    </tr>\n",
       "  </tbody>\n",
       "</table>\n",
       "</div>"
      ],
      "text/plain": [
       "    全國電子門市               住址             geocoding_info\n",
       "0  Digital  新北市汐止區大同路二段240號   (121.654052, 25.0654557)\n",
       "1  Digital  台北市中山區南京東路二段71號  (121.5307648, 25.0522473)\n",
       "2  Digital  台北市中正區和平西路一段20號  (121.5209167, 25.0266375)\n",
       "3  Digital  新北市板橋區中山路一段118號   (121.4631081, 25.010392)\n",
       "4  Digital   基隆市孝二路86號一樓、二樓  (121.7406151, 25.1301458)"
      ]
     },
     "execution_count": 7,
     "metadata": {},
     "output_type": "execute_result"
    }
   ],
   "source": [
    "# geocoding_info is the result\n",
    "df_output"
   ]
  },
  {
   "cell_type": "markdown",
   "id": "afa5da14",
   "metadata": {},
   "source": [
    "### trick method"
   ]
  },
  {
   "cell_type": "code",
   "execution_count": 2,
   "id": "bfc3c049",
   "metadata": {},
   "outputs": [],
   "source": [
    "# from url\n",
    "service_address_query = ServiceAddressQuery(source=\"google_url\")"
   ]
  },
  {
   "cell_type": "code",
   "execution_count": 9,
   "id": "a3356d65",
   "metadata": {},
   "outputs": [
    {
     "name": "stdout",
     "output_type": "stream",
     "text": [
      "Type: google_url\n",
      "Longitude: 121.514217\n",
      "Latitude: 25.057006\n"
     ]
    },
    {
     "data": {
      "text/plain": [
       "(121.514217, 25.057006)"
      ]
     },
     "execution_count": 9,
     "metadata": {},
     "output_type": "execute_result"
    }
   ],
   "source": [
    "# 結果有一點點不一樣，但位置差不多\n",
    "service_address_query.query_geocoding_pipeline('台北市大同區民生西路242號')"
   ]
  },
  {
   "cell_type": "markdown",
   "id": "d85e452f",
   "metadata": {},
   "source": [
    "### some error will happen"
   ]
  },
  {
   "cell_type": "code",
   "execution_count": 10,
   "id": "a7720f82",
   "metadata": {},
   "outputs": [
    {
     "ename": "Exception",
     "evalue": "Need api_key!",
     "output_type": "error",
     "traceback": [
      "\u001b[0;31m---------------------------------------------------------------------------\u001b[0m",
      "\u001b[0;31mException\u001b[0m                                 Traceback (most recent call last)",
      "\u001b[0;32m<ipython-input-10-a56bb129a69d>\u001b[0m in \u001b[0;36m<module>\u001b[0;34m\u001b[0m\n\u001b[0;32m----> 1\u001b[0;31m \u001b[0mServiceAddressQuery\u001b[0m\u001b[0;34m(\u001b[0m\u001b[0msource\u001b[0m\u001b[0;34m=\u001b[0m\u001b[0;34m\"google_api\"\u001b[0m\u001b[0;34m)\u001b[0m\u001b[0;34m\u001b[0m\u001b[0;34m\u001b[0m\u001b[0m\n\u001b[0m",
      "\u001b[0;32m~/Desktop/workspace/side_project/service_geocoding_query.py\u001b[0m in \u001b[0;36m__init__\u001b[0;34m(self, source, api_key, result_column_name)\u001b[0m\n\u001b[1;32m     19\u001b[0m         \u001b[0;32mif\u001b[0m \u001b[0mself\u001b[0m\u001b[0;34m.\u001b[0m\u001b[0msource\u001b[0m \u001b[0;34m==\u001b[0m \u001b[0;34m\"google_api\"\u001b[0m\u001b[0;34m:\u001b[0m\u001b[0;34m\u001b[0m\u001b[0;34m\u001b[0m\u001b[0m\n\u001b[1;32m     20\u001b[0m             \u001b[0;32mif\u001b[0m \u001b[0mapi_key\u001b[0m \u001b[0;32mis\u001b[0m \u001b[0;32mNone\u001b[0m\u001b[0;34m:\u001b[0m\u001b[0;34m\u001b[0m\u001b[0;34m\u001b[0m\u001b[0m\n\u001b[0;32m---> 21\u001b[0;31m                 \u001b[0;32mraise\u001b[0m \u001b[0mException\u001b[0m\u001b[0;34m(\u001b[0m\u001b[0;34m'Need api_key!'\u001b[0m\u001b[0;34m)\u001b[0m\u001b[0;34m\u001b[0m\u001b[0;34m\u001b[0m\u001b[0m\n\u001b[0m\u001b[1;32m     22\u001b[0m             \u001b[0;31m# need to install\u001b[0m\u001b[0;34m\u001b[0m\u001b[0;34m\u001b[0m\u001b[0;34m\u001b[0m\u001b[0m\n\u001b[1;32m     23\u001b[0m             \u001b[0mself\u001b[0m\u001b[0;34m.\u001b[0m\u001b[0mapi_key\u001b[0m \u001b[0;34m=\u001b[0m \u001b[0mapi_key\u001b[0m\u001b[0;34m\u001b[0m\u001b[0;34m\u001b[0m\u001b[0m\n",
      "\u001b[0;31mException\u001b[0m: Need api_key!"
     ]
    }
   ],
   "source": [
    "# using google api but no key\n",
    "ServiceAddressQuery(source=\"google_api\")"
   ]
  },
  {
   "cell_type": "code",
   "execution_count": 3,
   "id": "b2f5dd06",
   "metadata": {},
   "outputs": [
    {
     "ename": "Exception",
     "evalue": "Need a address or a dataframe input!",
     "output_type": "error",
     "traceback": [
      "\u001b[0;31m---------------------------------------------------------------------------\u001b[0m",
      "\u001b[0;31mException\u001b[0m                                 Traceback (most recent call last)",
      "\u001b[0;32m<ipython-input-3-5a13c8501dbd>\u001b[0m in \u001b[0;36m<module>\u001b[0;34m\u001b[0m\n\u001b[1;32m      1\u001b[0m \u001b[0;31m# need address or df input\u001b[0m\u001b[0;34m\u001b[0m\u001b[0;34m\u001b[0m\u001b[0;34m\u001b[0m\u001b[0m\n\u001b[0;32m----> 2\u001b[0;31m \u001b[0mservice_address_query\u001b[0m\u001b[0;34m.\u001b[0m\u001b[0mquery_geocoding_pipeline\u001b[0m\u001b[0;34m(\u001b[0m\u001b[0;34m)\u001b[0m\u001b[0;34m\u001b[0m\u001b[0;34m\u001b[0m\u001b[0m\n\u001b[0m",
      "\u001b[0;32m~/Desktop/workspace/side_project/service_geocoding_query.py\u001b[0m in \u001b[0;36mquery_geocoding_pipeline\u001b[0;34m(self, address, df_input, column_name)\u001b[0m\n\u001b[1;32m     60\u001b[0m                 \u001b[0;32mreturn\u001b[0m \u001b[0mself\u001b[0m\u001b[0;34m.\u001b[0m\u001b[0mdf_output\u001b[0m\u001b[0;34m\u001b[0m\u001b[0;34m\u001b[0m\u001b[0m\n\u001b[1;32m     61\u001b[0m         \u001b[0;32melse\u001b[0m\u001b[0;34m:\u001b[0m\u001b[0;34m\u001b[0m\u001b[0;34m\u001b[0m\u001b[0m\n\u001b[0;32m---> 62\u001b[0;31m             \u001b[0;32mraise\u001b[0m \u001b[0mException\u001b[0m\u001b[0;34m(\u001b[0m\u001b[0;34m\"Need a address or a dataframe input!\"\u001b[0m\u001b[0;34m)\u001b[0m\u001b[0;34m\u001b[0m\u001b[0;34m\u001b[0m\u001b[0m\n\u001b[0m\u001b[1;32m     63\u001b[0m \u001b[0;34m\u001b[0m\u001b[0m\n\u001b[1;32m     64\u001b[0m     \u001b[0;32mdef\u001b[0m \u001b[0mgoogle_map_api_query\u001b[0m\u001b[0;34m(\u001b[0m\u001b[0mself\u001b[0m\u001b[0;34m,\u001b[0m \u001b[0maddress\u001b[0m\u001b[0;34m)\u001b[0m\u001b[0;34m:\u001b[0m\u001b[0;34m\u001b[0m\u001b[0;34m\u001b[0m\u001b[0m\n",
      "\u001b[0;31mException\u001b[0m: Need a address or a dataframe input!"
     ]
    }
   ],
   "source": [
    "# need address or df input\n",
    "service_address_query.query_geocoding_pipeline()"
   ]
  },
  {
   "cell_type": "code",
   "execution_count": null,
   "id": "ea0d3b06",
   "metadata": {},
   "outputs": [],
   "source": [
    "# wrong addres"
   ]
  }
 ],
 "metadata": {
  "kernelspec": {
   "display_name": "Python 3",
   "language": "python",
   "name": "python3"
  },
  "language_info": {
   "codemirror_mode": {
    "name": "ipython",
    "version": 3
   },
   "file_extension": ".py",
   "mimetype": "text/x-python",
   "name": "python",
   "nbconvert_exporter": "python",
   "pygments_lexer": "ipython3",
   "version": "3.8.8"
  }
 },
 "nbformat": 4,
 "nbformat_minor": 5
}
